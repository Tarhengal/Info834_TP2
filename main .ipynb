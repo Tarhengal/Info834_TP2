{
 "cells": [
  {
   "attachments": {},
   "cell_type": "markdown",
   "metadata": {},
   "source": [
    "# Compte rendu TP2 Info 834\n",
    "## Simonet Théo\n",
    "\n",
    "Les Imports nécéssaires :"
   ]
  },
  {
   "cell_type": "code",
   "execution_count": 1,
   "metadata": {},
   "outputs": [],
   "source": [
    "import pandas as pd\n",
    "import pyarrow as pa\n",
    "import pyarrow.parquet as pq\n",
    "import pyarrow.compute as pc\n",
    "import matplotlib.pyplot as plt"
   ]
  },
  {
   "attachments": {},
   "cell_type": "markdown",
   "metadata": {},
   "source": [
    "On utilise pandas pour récupérer les données des fichiers .csv puis on tranforme ces dataframes en tables "
   ]
  },
  {
   "cell_type": "code",
   "execution_count": 2,
   "metadata": {},
   "outputs": [],
   "source": [
    "data_academies = pd.read_csv(\"academies_virgule.csv\")\n",
    "data_villes = pd.read_csv(\"villes_virgule.csv\")"
   ]
  },
  {
   "attachments": {},
   "cell_type": "markdown",
   "metadata": {},
   "source": [
    "### Question 1\n",
    "\n",
    "On a créé des fonctions pour convertir des dataframes en tables et inversement "
   ]
  },
  {
   "cell_type": "code",
   "execution_count": 3,
   "metadata": {},
   "outputs": [],
   "source": [
    "def df_to_table(df):\n",
    "    return pa.Table.from_pandas(df)\n",
    "\n",
    "def table_to_df(table):\n",
    "    return table.to_pandas()\n",
    "\n",
    "table_academies = df_to_table(data_academies)\n",
    "table_villes = df_to_table(data_villes)"
   ]
  },
  {
   "attachments": {},
   "cell_type": "markdown",
   "metadata": {},
   "source": [
    "On créé des fonctions pour convertir des tables en fichiers parquets et in versement"
   ]
  },
  {
   "cell_type": "code",
   "execution_count": 5,
   "metadata": {},
   "outputs": [],
   "source": [
    "def table_to_parquet(table, nom_fichier):\n",
    "    return pq.write_table(table, '{}'.format(nom_fichier))\n",
    "\n",
    "def parquet_to_table(document):\n",
    "    return pq.read_table(document)\n",
    "\n",
    "table_to_parquet(table_academies, 'parquet_academies')\n",
    "table_to_parquet(table_villes, 'parquet_villes')"
   ]
  },
  {
   "attachments": {},
   "cell_type": "markdown",
   "metadata": {},
   "source": [
    "### Question 2\n",
    "\n",
    "On crée une fonction pour récupérer le schemas d'une table"
   ]
  },
  {
   "cell_type": "code",
   "execution_count": 15,
   "metadata": {},
   "outputs": [
    {
     "name": "stdout",
     "output_type": "stream",
     "text": [
      "dep: string\n",
      "nom: string\n",
      "cp: string\n",
      "nb_hab_2010: int64\n",
      "nb_hab_1999: int64\n",
      "nb_hab_2012: int64\n",
      "dens: int64\n",
      "surf: double\n",
      "long: double\n",
      "lat: double\n",
      "alt_min: double\n",
      "alt_max: double\n",
      "-- schema metadata --\n",
      "pandas: '{\"index_columns\": [{\"kind\": \"range\", \"name\": null, \"start\": 0, \"' + 1596\n"
     ]
    }
   ],
   "source": [
    "def get_schema(table):\n",
    "    return table.schema\n",
    "\n",
    "print(get_schema(table_villes))"
   ]
  },
  {
   "attachments": {},
   "cell_type": "markdown",
   "metadata": {},
   "source": [
    "### Question 3\n",
    "\n",
    "On créé une fonction pour recuperer la colonne d'une table par son nom "
   ]
  },
  {
   "cell_type": "code",
   "execution_count": 16,
   "metadata": {},
   "outputs": [
    {
     "name": "stdout",
     "output_type": "stream",
     "text": [
      "[\n",
      "  [\n",
      "    \"Ozan\",\n",
      "    \"Cormoranche-sur-Saône\",\n",
      "    \"Plagne\",\n",
      "    \"Tossiat\",\n",
      "    \"Pouillat\",\n",
      "    ...\n",
      "    \"Sada\",\n",
      "    \"Tsingoni\",\n",
      "    \"Saint-Barthélemy\",\n",
      "    \"Saint-Martin\",\n",
      "    \"Saint-Pierre-et-Miquelon\"\n",
      "  ]\n",
      "]\n"
     ]
    }
   ],
   "source": [
    "def get_column(table, column_name):\n",
    "    return table[column_name]\n",
    "\n",
    "print(get_column(table_villes, \"nom\"))"
   ]
  },
  {
   "attachments": {},
   "cell_type": "markdown",
   "metadata": {},
   "source": [
    "### Question 4\n",
    "\n",
    "On créé les fonctions : count, count_distinct, sum, min, max qui renvoient des statistiques sur une\n",
    "colonne de table"
   ]
  },
  {
   "cell_type": "code",
   "execution_count": 18,
   "metadata": {},
   "outputs": [
    {
     "name": "stdout",
     "output_type": "stream",
     "text": [
      "36700\n",
      "34034\n",
      "64264646\n",
      "0\n",
      "2211000\n"
     ]
    }
   ],
   "source": [
    "def count(table, column):\n",
    "    return pc.count(get_column(table, column))\n",
    "\n",
    "def count_distinct(table, column):\n",
    "    return pc.count_distinct(get_column(table, column))\n",
    "\n",
    "def sum(table, column):\n",
    "    return pc.sum(get_column(table, column))\n",
    "\n",
    "def min(table, column):\n",
    "    return pc.min(get_column(table, column))\n",
    "\n",
    "\n",
    "def max(table, column):\n",
    "    return pc.max(get_column(table, column))\n",
    "\n",
    "print(count(table_villes, \"nom\"))\n",
    "print(count_distinct(table_villes, \"nom\"))\n",
    "print(sum(table_villes, \"nb_hab_2012\"))\n",
    "print(min(table_villes, \"nb_hab_2012\"))\n",
    "print(max(table_villes, \"nb_hab_2012\"))"
   ]
  },
  {
   "attachments": {},
   "cell_type": "markdown",
   "metadata": {},
   "source": [
    "### Question 5\n",
    "\n",
    "On créé les fonctions filter_villes et filter_departements pour sélectionner les informations sur une ville (e.g. Annecy) et pour sélectionner les informations sur un département (e.g. Haute-Savoie) par ordre alphabétique des villes"
   ]
  },
  {
   "cell_type": "code",
   "execution_count": 20,
   "metadata": {},
   "outputs": [
    {
     "name": "stdout",
     "output_type": "stream",
     "text": [
      "pyarrow.Table\n",
      "dep: string\n",
      "nom: string\n",
      "cp: string\n",
      "nb_hab_2010: int64\n",
      "nb_hab_1999: int64\n",
      "nb_hab_2012: int64\n",
      "dens: int64\n",
      "surf: double\n",
      "long: double\n",
      "lat: double\n",
      "alt_min: double\n",
      "alt_max: double\n",
      "----\n",
      "dep: [[\"74\"]]\n",
      "nom: [[\"Annecy\"]]\n",
      "cp: [[\"74000\"]]\n",
      "nb_hab_2010: [[50379]]\n",
      "nb_hab_1999: [[50324]]\n",
      "nb_hab_2012: [[50100]]\n",
      "dens: [[3690]]\n",
      "surf: [[13.65]]\n",
      "long: [[6.11667]]\n",
      "lat: [[45.9]]\n",
      "...\n",
      "pyarrow.Table\n",
      "dep: string\n",
      "nom: string\n",
      "cp: string\n",
      "nb_hab_2010: int64\n",
      "nb_hab_1999: int64\n",
      "nb_hab_2012: int64\n",
      "dens: int64\n",
      "surf: double\n",
      "long: double\n",
      "lat: double\n",
      "alt_min: double\n",
      "alt_max: double\n",
      "----\n",
      "dep: [[\"74\",\"74\",\"74\",\"74\",\"74\",...,\"74\",\"74\",\"74\",\"74\",\"74\"]]\n",
      "nom: [[\"Abondance\",\"Alby-sur-Chéran\",\"Alex\",\"Allinges\",\"Allonzier-la-Caille\",...,\"Épagny\",\"Étercy\",\"Étrembières\",\"Évian-les-Bains\",\"Évires\"]]\n",
      "cp: [[\"74360\",\"74540\",\"74290\",\"74200\",\"74350\",...,\"74330\",\"74150\",\"74100\",\"74500\",\"74570\"]]\n",
      "nb_hab_2010: [[1342,2012,985,3982,1637,...,3899,698,1887,8142,1294]]\n",
      "nb_hab_1999: [[1297,1631,791,3022,1080,...,3233,630,1429,7278,1062]]\n",
      "nb_hab_2012: [[1300,2000,1000,3800,1500,...,3800,700,1800,8100,1300]]\n",
      "dens: [[22,306,57,265,170,...,575,153,347,1897,66]]\n",
      "surf: [[58.84,6.56,17.02,15.01,9.62,...,6.77,4.55,5.43,4.29,19.49]]\n",
      "long: [[6.73333,6.02084,6.23333,6.46667,6.11667,...,6.1,6,6.23333,6.58333,6.23333]]\n",
      "lat: [[46.2833,45.8167,45.8833,46.3333,46,...,45.9333,45.8833,46.1833,46.3833,46.0333]]\n",
      "...\n"
     ]
    }
   ],
   "source": [
    "def filter_ville(table, nom_ville):\n",
    "    df = table_to_df(table)\n",
    "    mask = df['nom'] == nom_ville\n",
    "    return table.filter(mask.to_list())\n",
    "\n",
    "def filter_departement(table, num_departement):\n",
    "    df = table_to_df(table)\n",
    "    mask = df['dep'] == num_departement\n",
    "    return table.filter(mask.to_list()).sort_by(\"nom\")\n",
    "\n",
    "print(filter_ville(table_villes, \"Annecy\"))\n",
    "print(filter_departement(table_villes, \"74\"))"
   ]
  },
  {
   "attachments": {},
   "cell_type": "markdown",
   "metadata": {},
   "source": [
    "### Question 6\n",
    "\n",
    "On créé la fonction pour calculer le nombre moyen d'habitants en 2012 pour un departement; on itere cette fonction sur les liste des numéro de départements"
   ]
  },
  {
   "cell_type": "code",
   "execution_count": 23,
   "metadata": {},
   "outputs": [
    {
     "name": "stdout",
     "output_type": "stream",
     "text": [
      "2437.074829931973\n"
     ]
    },
    {
     "data": {
      "text/plain": [
       "'\\nfor num_dep in get_column(table_villes, \"dep\").to_list():\\n    print(\"le nombre moyen d\\'habitants dans le {} est de {}\".format(num_dep, nb_moy_hab(num_dep)))\\n'"
      ]
     },
     "execution_count": 23,
     "metadata": {},
     "output_type": "execute_result"
    }
   ],
   "source": [
    "def nb_moy_hab(num_dep):\n",
    "    table = filter_departement(table_villes, num_dep)\n",
    "    nb_habitants_moy_2012 = sum(table, \"nb_hab_2012\").as_py()/count(table, \"nom\").as_py()\n",
    "    return nb_habitants_moy_2012\n",
    "\n",
    "print(nb_moy_hab(\"74\"))\n",
    "\n",
    "'''\n",
    "for num_dep in get_column(table_villes, \"dep\").to_list():\n",
    "    print(\"le nombre moyen d'habitants dans le {} est de {}\".format(num_dep, nb_moy_hab(num_dep)))\n",
    "'''"
   ]
  },
  {
   "attachments": {},
   "cell_type": "markdown",
   "metadata": {},
   "source": [
    "### Question 7 \n",
    "\n",
    "Opérations ensemblistes jointures : afficher les zones de vacances des villes ; les villes de la zone de\n",
    "vacances A ; les départements des zones de vacances A et B ; le nombre de villes par académie ; "
   ]
  },
  {
   "cell_type": "code",
   "execution_count": null,
   "metadata": {},
   "outputs": [],
   "source": []
  },
  {
   "attachments": {},
   "cell_type": "markdown",
   "metadata": {},
   "source": [
    "### Question 8\n",
    "\n",
    "Affichage avec matplotlib : e.g. histogramme de la distribution du nombre de villes par académie"
   ]
  },
  {
   "cell_type": "code",
   "execution_count": null,
   "metadata": {},
   "outputs": [],
   "source": []
  }
 ],
 "metadata": {
  "kernelspec": {
   "display_name": "Python 3",
   "language": "python",
   "name": "python3"
  },
  "language_info": {
   "codemirror_mode": {
    "name": "ipython",
    "version": 3
   },
   "file_extension": ".py",
   "mimetype": "text/x-python",
   "name": "python",
   "nbconvert_exporter": "python",
   "pygments_lexer": "ipython3",
   "version": "3.10.8"
  },
  "orig_nbformat": 4,
  "vscode": {
   "interpreter": {
    "hash": "369f2c481f4da34e4445cda3fffd2e751bd1c4d706f27375911949ba6bb62e1c"
   }
  }
 },
 "nbformat": 4,
 "nbformat_minor": 2
}
